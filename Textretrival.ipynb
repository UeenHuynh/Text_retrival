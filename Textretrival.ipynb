{
 "cells": [
  {
   "cell_type": "code",
   "execution_count": 46,
   "metadata": {},
   "outputs": [
    {
     "name": "stderr",
     "output_type": "stream",
     "text": [
      "Found cached dataset ms_marco (C:/Users/Admin/.cache/huggingface/datasets/ms_marco/v1.1/1.1.0/b6a62715fa5219aea5275dd3556601004cd63945cb63e36e022f77bb3cbbca84)\n"
     ]
    },
    {
     "data": {
      "application/vnd.jupyter.widget-view+json": {
       "model_id": "4def0038953a4df89226ff3ec5b9fe6f",
       "version_major": 2,
       "version_minor": 0
      },
      "text/plain": [
       "  0%|          | 0/3 [00:00<?, ?it/s]"
      ]
     },
     "metadata": {},
     "output_type": "display_data"
    }
   ],
   "source": [
    "from datasets import load_dataset\n",
    "\n",
    "dataset = load_dataset('ms_marco', 'v1.1')\n"
   ]
  },
  {
   "cell_type": "code",
   "execution_count": 47,
   "metadata": {},
   "outputs": [],
   "source": [
    "subset = dataset['test']"
   ]
  },
  {
   "cell_type": "code",
   "execution_count": 48,
   "metadata": {},
   "outputs": [],
   "source": [
    "corpus = []\n",
    "\n",
    "for sample in subset:\n",
    "    query_type = sample['query_type']\n",
    "    if query_type != 'entity':\n",
    "        continue"
   ]
  },
  {
   "cell_type": "code",
   "execution_count": 49,
   "metadata": {},
   "outputs": [],
   "source": [
    "query_id = sample['query_id']\n",
    "query_str = sample['query']\n",
    "passages_dict = sample['passages']\n",
    "is_selected_lst = passages_dict['is_selected']\n",
    "passages_text_lst = passages_dict['passage_text']\n",
    "\n",
    "corpus += passages_text_lst"
   ]
  },
  {
   "cell_type": "code",
   "execution_count": 50,
   "metadata": {},
   "outputs": [],
   "source": [
    "def tokenize(text):\n",
    "    return text.split()\n",
    "\n",
    "def create_dictionary(corpus):\n",
    "    dictionary = []\n",
    "    for doc in corpus:\n",
    "        normalized_doc = text_normalize(doc)\n",
    "        tokens = tokenize(normalized_doc)\n",
    "        for token in tokens:\n",
    "            if token not in dictionary:\n",
    "                dictionary.append(token)\n",
    "\n",
    "    return dictionary\n"
   ]
  },
  {
   "cell_type": "code",
   "execution_count": 51,
   "metadata": {},
   "outputs": [],
   "source": [
    "def vectorize(text, dictionary):\n",
    "    word_count_dict = {word: 0 for word in dictionary}\n",
    "    normalized_text = text_normalize(text)\n",
    "    tokens = tokenize(normalized_text)\n",
    "    for token in tokens:\n",
    "        try:\n",
    "            word_count_dict[token] += 1\n",
    "        except:\n",
    "            pass \n",
    "        #cache error\n",
    "        #print error \n",
    "\n",
    "    vector = list(word_count_dict.values())\n",
    "\n",
    "    return vector "
   ]
  },
  {
   "cell_type": "code",
   "execution_count": 52,
   "metadata": {},
   "outputs": [],
   "source": [
    "def create_doc_term_matrix(corpus, dictionary):\n",
    "    doc_term_matrix = {}\n",
    "    for idx, doc in enumerate(corpus):\n",
    "        vector = vectorize(doc, dictionary)\n",
    "        doc_term_matrix[(doc, idx)] = vector\n",
    "\n",
    "    return doc_term_matrix\n",
    "\n",
    "\n",
    "def lowercase(text):\n",
    "    return text.lower()\n",
    "import string \n",
    "\n",
    "remove_chars = string.punctuation\n",
    "def remove_punctuation(text):\n",
    "    for char in remove_chars:\n",
    "        text = text.replace(char, '')\n",
    "\n",
    "    return text\n",
    "from nltk.corpus import stopwords\n",
    "\n",
    "stopwords_lst = stopwords.words('english')\n",
    "\n",
    "def remove_stopwords(text):\n",
    "    tokens = tokenize(text)\n",
    "    non_stopwords_lst = [\n",
    "        token for token in tokens \\\n",
    "            if token not in stopwords_lst\n",
    "    ]\n",
    "    new_text = ' '.join(non_stopwords_lst)\n",
    "\n",
    "    return new_text"
   ]
  },
  {
   "cell_type": "code",
   "execution_count": 53,
   "metadata": {},
   "outputs": [],
   "source": [
    "from nltk.stem import PorterStemmer\n",
    "\n",
    "stemmer = PorterStemmer()\n",
    "def stemming(text):\n",
    "    tokens = tokenize(text)\n",
    "    stemmed_lst = [\n",
    "        stemmer.stem(token) for token in tokens\n",
    "    ]\n",
    "    new_text = ' '.join(stemmed_lst)\n",
    "\n",
    "    return new_text"
   ]
  },
  {
   "cell_type": "code",
   "execution_count": 54,
   "metadata": {},
   "outputs": [],
   "source": [
    "from scipy import spatial\n",
    "def similarity(a, b):\n",
    "    return 1 - spatial.distance.cosine(a, b)\n"
   ]
  },
  {
   "cell_type": "code",
   "execution_count": 55,
   "metadata": {},
   "outputs": [],
   "source": [
    "def ranking(query, dictionary, doc_term_matrix):\n",
    "    query_vec = vectorize(query, dictionary)\n",
    "    scores = []\n",
    "    for doc_info, doc_vec in doc_term_matrix.items():\n",
    "        sim = similarity(query_vec, doc_vec)\n",
    "        scores.append((sim, doc_info))\n",
    "    scores.sort(reverse= True)\n",
    "\n",
    "    return scores"
   ]
  },
  {
   "cell_type": "code",
   "execution_count": 56,
   "metadata": {},
   "outputs": [
    {
     "name": "stdout",
     "output_type": "stream",
     "text": [
      "Query: what is the official language in Fiji\n",
      "=== Relevant docs ===\n",
      "Top 1; Scores: 1.0000\n",
      "While methamphetamine and MDMA -- also known as ecstasy or molly -- are technically synthetic drugs because they are made entirely from chemicals, the term synthetic drugs usually refers to bath salts and synthetic marijuana that are often sold in stores and online as household items. \n",
      "\n",
      "\n",
      "Top 2; Scores: 1.0000\n",
      "There’s “bath salts,” there’s synthetic marijuana and there’s drugs that used to be called “designer drugs.” Now all these classes of drugs are starting to be grouped together with the designation “synthetics.”. Synthetic marijuana is sold as Spice or K2 or one of a dozen other names. As reported by the European Monitoring Center for Drugs and Drug Addiction, a new, deadly substance is being abused by those seeking a thrill in the UK and in Europe. This new drug is a synthetic nicknamed 4,4’-DMAR, 4-methyl-euphoria, 4-methyl-U4Euh, 4-M-4-MAR, 4,4-dimethylaminorex or Serotoni.\n",
      "\n",
      "\n",
      "Top 3; Scores: 1.0000\n",
      "Synthetic drugs are products containing chemical substances artificially developed to mimic the effects of illegal drugs like cannabis, cocaine and methamphetamine. They come in the form of powders, pills and dried herbs that have been soaked in synthetic chemicals. Synthetic drugs and the law. In September 2013 the NSW Goverment introduced changes to the Drug Misuse and Trafficking Act 1985 to prohibit the manufacture, supply and advertising of psychoactive substances (colloquially known as synthetic drugs).\n",
      "\n",
      "\n",
      "Top 4; Scores: 1.0000\n",
      "Synthetic cannabis (synthetic marijuana), or technically synthetic cannabinoid receptor agonists are designer drugs that mimic the effects of cannabis sprayed onto a herbal base material. There are several psychoactive artificial cannabinoid families (e.g. AM-xxx, HU-xxx, JWH-xxx, CP xx) that are used as designer drugs sprayed on herbs and sold as natural highs under brand names like K2 and Spice, both of which are genericized trademarks used for any synthetic cannabis product.\n",
      "\n",
      "\n",
      "Top 5; Scores: 1.0000\n",
      "Synthetic Narcotics List. The illegal drug market, while still active, is quickly being outpaced by the rise in synthetic drug use. Drugs, such as cocaine and heroin, though illegal, are nonetheless plant-based organic concoctions while synthetic varieties consist of any number and mixture of chemical compounds. Dangerous synthetic drugs like bath salts are on this narcotics list. Data gathered by the Office of National Drug Control Policy show an estimated 28,531 emergency room visits in 2011 resulted from synthetic narcotic use.\n",
      "\n",
      "\n",
      "Top 6; Scores: 1.0000\n",
      "Overview and History. Synthetic cannabinoids, commonly known as “synthetic marijuana,” “K2,” or “Spice”, are often sold in legal retail outlets as “herbal incense” or “potpourri”, and synthetic cathinones are often sold as “bath salts” or “jewelry cleaner”. Congress has taken steps to ban many of these substances at the Federal level, and the Administration has supported such efforts. The Synthetic Drug Abuse Prevention Act is part of the FDA Safety and Innovation Act of 2012, signed into law by President Obama.\n",
      "\n",
      "\n",
      "Top 7; Scores: 1.0000\n",
      "Effects of Synthetics. The new synthetic drugs that are making the rounds of drug-using markets are some of the most destructive drugs available today. As reported by the European Monitoring Center for Drugs and Drug Addiction, a new, deadly substance is being abused by those seeking a thrill in the UK and in Europe. This new drug is a synthetic nicknamed 4,4’-DMAR, 4-methyl-euphoria, 4-methyl-U4Euh, 4-M-4-MAR, 4,4-dimethylaminorex or Serotoni.\n",
      "\n",
      "\n",
      "Top 8; Scores: 1.0000\n",
      "DrugFacts: Synthetic Cathinones (“Bath Salts”). The term “bath salts” refers to an emerging family of drugs containing one or more synthetic chemicals related to cathinone, an amphetamine-like stimulant found naturally in the khat plant. Early indications are that synthetic cathinones have a high abuse and addiction potential. In a study of the rewarding and reinforcing effects of MDPV, rats showed self-administration patterns and escalation of drug intake nearly identical to methamphetamine.\n",
      "\n",
      "\n",
      "Top 9; Scores: 1.0000\n",
      "Bath salts and synthetic marijuana such as K2 and Spice are classified as synthetic drugs, which are sold in retail outlets and via the Internet under many different brand labels as plant food and herbal incense, respectively. \n",
      "\n",
      "\n",
      "Top 10; Scores: 1.0000\n",
      "1 Parents360 Synthetic Drugs: Bath Salts, K2/Spice: A guide for parents and other influencers February 16, 2012. 2 drugfree.org Parents360 Synthetic Drugs:Bath Salts, K2/Spice Hello, and welcome to the Parents360 module that addresses issues pertaining to synthetic drugs such as Bath Salts and K2/Spice. The presentation has a number of drug-specific modules that can be added to it. The one were talking about today is Synthetic Drugs such as Bath Salts and K2/Spice. This is a very important topic to address because synthetic drugs are dangerous.\n",
      "\n",
      "\n"
     ]
    }
   ],
   "source": [
    "query_lst = ['what is the official language in Fiji']\n",
    "top_k = 10\n",
    "dictionary = create_dictionary(corpus)\n",
    "doc_term_matrix = create_doc_term_matrix(corpus, dictionary)\n",
    "for query in query_lst:\n",
    "    scores = ranking(query, dictionary, doc_term_matrix)\n",
    "    print(f'Query: {query}')\n",
    "    print('=== Relevant docs ===')\n",
    "    for idx in range(top_k):\n",
    "        doc_score = scores[idx][0]\n",
    "        doc_content = scores[idx][1][0]\n",
    "\n",
    "        print(f'Top {idx + 1}; Scores: {doc_score:.4f}')\n",
    "        print(doc_content)\n",
    "        print('\\n')"
   ]
  },
  {
   "cell_type": "code",
   "execution_count": 57,
   "metadata": {},
   "outputs": [],
   "source": [
    "import torch\n",
    "from sentence_transformers import SentenceTransformer\n",
    "\n",
    "model =  SentenceTransformer('all-MiniLM-L6-v2')\n",
    "corpus_embeddings = model.encode(corpus, convert_to_tensor=True)"
   ]
  },
  {
   "cell_type": "code",
   "execution_count": 58,
   "metadata": {},
   "outputs": [],
   "source": [
    "from sentence_transformers import util \n",
    "\n",
    "def similarity(query_embeddings, corpus_embeddings):\n",
    "    return util.cos_sim(query_embeddings, corpus_embeddings)[0]\n",
    "\n"
   ]
  },
  {
   "cell_type": "code",
   "execution_count": 59,
   "metadata": {},
   "outputs": [],
   "source": [
    "def ranking(query, top_k=10):\n",
    "    query_embeddings = model.encode(\n",
    "        query, \n",
    "        convert_to_tensor=True\n",
    "    )\n",
    "    cos_scores = similarity(\n",
    "        query_embeddings, \n",
    "        corpus_embeddings\n",
    "    )\n",
    "    top_results = torch.topk(cos_scores, k=top_k)\n",
    "\n",
    "    return top_results"
   ]
  },
  {
   "cell_type": "code",
   "execution_count": 60,
   "metadata": {},
   "outputs": [
    {
     "name": "stdout",
     "output_type": "stream",
     "text": [
      "Query:  what is the official language in Fiji\n",
      "\n",
      "==================\n",
      "Top (top_k) most similar sentence in corpus:\n",
      "\n",
      "Document rank (idx + 1):\n",
      "Bath salts and synthetic marijuana such as K2 and Spice are classified as synthetic drugs, which are sold in retail outlets and via the Internet under many different brand labels as plant food and herbal incense, respectively.  \n",
      "(Score: 0.0391) \n",
      "\n",
      "Document rank (idx + 1):\n",
      "DrugFacts: Synthetic Cathinones (“Bath Salts”). The term “bath salts” refers to an emerging family of drugs containing one or more synthetic chemicals related to cathinone, an amphetamine-like stimulant found naturally in the khat plant. Early indications are that synthetic cathinones have a high abuse and addiction potential. In a study of the rewarding and reinforcing effects of MDPV, rats showed self-administration patterns and escalation of drug intake nearly identical to methamphetamine. \n",
      "(Score: 0.0076) \n",
      "\n",
      "Document rank (idx + 1):\n",
      "Overview and History. Synthetic cannabinoids, commonly known as “synthetic marijuana,” “K2,” or “Spice”, are often sold in legal retail outlets as “herbal incense” or “potpourri”, and synthetic cathinones are often sold as “bath salts” or “jewelry cleaner”. Congress has taken steps to ban many of these substances at the Federal level, and the Administration has supported such efforts. The Synthetic Drug Abuse Prevention Act is part of the FDA Safety and Innovation Act of 2012, signed into law by President Obama. \n",
      "(Score: -0.0177) \n",
      "\n",
      "Document rank (idx + 1):\n",
      "Synthetic Narcotics List. The illegal drug market, while still active, is quickly being outpaced by the rise in synthetic drug use. Drugs, such as cocaine and heroin, though illegal, are nonetheless plant-based organic concoctions while synthetic varieties consist of any number and mixture of chemical compounds. Dangerous synthetic drugs like bath salts are on this narcotics list. Data gathered by the Office of National Drug Control Policy show an estimated 28,531 emergency room visits in 2011 resulted from synthetic narcotic use. \n",
      "(Score: -0.0211) \n",
      "\n",
      "Document rank (idx + 1):\n",
      "Synthetic drugs are products containing chemical substances artificially developed to mimic the effects of illegal drugs like cannabis, cocaine and methamphetamine. They come in the form of powders, pills and dried herbs that have been soaked in synthetic chemicals. Synthetic drugs and the law. In September 2013 the NSW Goverment introduced changes to the Drug Misuse and Trafficking Act 1985 to prohibit the manufacture, supply and advertising of psychoactive substances (colloquially known as synthetic drugs). \n",
      "(Score: -0.0221) \n",
      "\n"
     ]
    }
   ],
   "source": [
    "custom_queries = ['what is the official language in Fiji']\n",
    "\n",
    "top_k = min(5, len(corpus))\n",
    "for query in custom_queries:\n",
    "    top_results = ranking(query, top_k)\n",
    "\n",
    "    print('Query: ', query)\n",
    "    print('\\n==================')\n",
    "    print(f'Top (top_k) most similar sentence in corpus:\\n')\n",
    "\n",
    "    for idx, (score, doc_idx) in enumerate(\n",
    "        zip(top_results[0], top_results[1])\n",
    "    ):\n",
    "        print(f'Document rank (idx + 1):')\n",
    "        print(corpus[doc_idx], f'\\n(Score: {score:.4f})', '\\n')"
   ]
  }
 ],
 "metadata": {
  "kernelspec": {
   "display_name": "AI",
   "language": "python",
   "name": "python3"
  },
  "language_info": {
   "codemirror_mode": {
    "name": "ipython",
    "version": 3
   },
   "file_extension": ".py",
   "mimetype": "text/x-python",
   "name": "python",
   "nbconvert_exporter": "python",
   "pygments_lexer": "ipython3",
   "version": "3.10.11"
  },
  "orig_nbformat": 4
 },
 "nbformat": 4,
 "nbformat_minor": 2
}
